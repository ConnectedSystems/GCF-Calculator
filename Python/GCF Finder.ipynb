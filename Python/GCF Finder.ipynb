{
 "cells": [
  {
   "cell_type": "markdown",
   "metadata": {},
   "source": [
    "Messing around with calculation of Greatest Common Factor between `n` numbers\n",
    "\n",
    "Sparked by [this answer](https://www.quora.com/My-US-citizen-boyfriend-who-is-a-software-engineer-with-a-MS-in-Computer-Science-is-unable-to-get-a-job-in-his-field-Is-it-because-he-is-being-undermined-by-people-on-H1Bs/answers/38917295?srid=oDGD) to [this question](https://www.quora.com/My-US-citizen-boyfriend-who-is-a-software-engineer-with-a-MS-in-Computer-Science-is-unable-to-get-a-job-in-his-field-Is-it-because-he-is-being-undermined-by-people-on-H1Bs) on Quora"
   ]
  },
  {
   "cell_type": "code",
   "execution_count": 1,
   "metadata": {
    "collapsed": true
   },
   "outputs": [],
   "source": [
    "search_vals = [1600, 1200, 800]\n",
    "\n",
    "def get_gcf(func, params):\n",
    "    \n",
    "    sets = map(func, map(abs,params))\n",
    "    temp = reduce(lambda x, y: list(set(x).intersection(y)), sets)\n",
    "    \n",
    "    return max(temp)\n",
    "\n",
    "# End get_gcf()"
   ]
  },
  {
   "cell_type": "markdown",
   "metadata": {},
   "source": [
    "Naive Python attempt"
   ]
  },
  {
   "cell_type": "code",
   "execution_count": 2,
   "metadata": {
    "collapsed": false
   },
   "outputs": [],
   "source": [
    "def naive_py(val):\n",
    "    factors = [1, val]\n",
    "    for x in range(2, val):\n",
    "        for y in range(x, val):\n",
    "            if (x * y) == val:\n",
    "                factors.extend([x,y])\n",
    "            # End if\n",
    "        # End for\n",
    "    # End for\n",
    "    \n",
    "    return factors\n",
    "# End naive_py()"
   ]
  },
  {
   "cell_type": "code",
   "execution_count": 3,
   "metadata": {
    "collapsed": false
   },
   "outputs": [
    {
     "name": "stdout",
     "output_type": "stream",
     "text": [
      "10 loops, best of 3: 103 ms per loop\n"
     ]
    },
    {
     "data": {
      "text/plain": [
       "400"
      ]
     },
     "execution_count": 3,
     "metadata": {},
     "output_type": "execute_result"
    }
   ],
   "source": [
    "%timeit get_gcf(naive_py, search_vals)\n",
    "get_gcf(naive_py, search_vals)"
   ]
  },
  {
   "cell_type": "markdown",
   "metadata": {},
   "source": [
    "Using generators and list comprehensions..."
   ]
  },
  {
   "cell_type": "code",
   "execution_count": 4,
   "metadata": {
    "collapsed": false
   },
   "outputs": [],
   "source": [
    "def improved_py(val):\n",
    "    factors = [1, val]\n",
    "    [factors.extend([x, y]) \n",
    "         for x in xrange(2, val) \n",
    "         for y in xrange(x, val) if (x * y) == val]\n",
    "    \n",
    "    return factors\n",
    "# End improved_py()"
   ]
  },
  {
   "cell_type": "code",
   "execution_count": 5,
   "metadata": {
    "collapsed": false
   },
   "outputs": [
    {
     "name": "stdout",
     "output_type": "stream",
     "text": [
      "10 loops, best of 3: 91.6 ms per loop\n"
     ]
    },
    {
     "data": {
      "text/plain": [
       "400"
      ]
     },
     "execution_count": 5,
     "metadata": {},
     "output_type": "execute_result"
    }
   ],
   "source": [
    "%timeit get_gcf(improved_py, search_vals)\n",
    "get_gcf(improved_py, search_vals)"
   ]
  },
  {
   "cell_type": "markdown",
   "metadata": {},
   "source": [
    "Using Cython"
   ]
  },
  {
   "cell_type": "code",
   "execution_count": 6,
   "metadata": {
    "collapsed": false
   },
   "outputs": [],
   "source": [
    "%load_ext Cython"
   ]
  },
  {
   "cell_type": "code",
   "execution_count": 7,
   "metadata": {
    "collapsed": false
   },
   "outputs": [],
   "source": [
    "%%cython\n",
    "def cython_factors(int val):\n",
    "    cdef int x, y\n",
    "    cdef list factors = [1, val]\n",
    "    \n",
    "    for x in range(2, val):\n",
    "        for y in range(x, val):\n",
    "            if (x * y) == val:\n",
    "                factors.extend([x, y])\n",
    "            # End if\n",
    "        # End for\n",
    "    # End for\n",
    "    \n",
    "    return factors\n",
    "# End cython_factors()"
   ]
  },
  {
   "cell_type": "code",
   "execution_count": 8,
   "metadata": {
    "collapsed": false
   },
   "outputs": [
    {
     "name": "stdout",
     "output_type": "stream",
     "text": [
      "1000 loops, best of 3: 1.53 ms per loop\n"
     ]
    },
    {
     "data": {
      "text/plain": [
       "400"
      ]
     },
     "execution_count": 8,
     "metadata": {},
     "output_type": "execute_result"
    }
   ],
   "source": [
    "%timeit get_gcf(cython_factors, search_vals)\n",
    "get_gcf(cython_factors, search_vals)"
   ]
  },
  {
   "cell_type": "markdown",
   "metadata": {},
   "source": [
    "Using numpy arrays does not help in this case (in fact, it slows it down) because `np.append` recreates the array every loop"
   ]
  },
  {
   "cell_type": "code",
   "execution_count": 9,
   "metadata": {
    "collapsed": false
   },
   "outputs": [],
   "source": [
    "%%cython\n",
    "import numpy as np\n",
    "cimport numpy as np\n",
    "def cython_factors2(int val):\n",
    "    cdef int x, y\n",
    "    cdef np.ndarray[int] factors = np.array([1, val])\n",
    "    \n",
    "    for x in range(2, val):\n",
    "        for y in range(x, val):\n",
    "            if (x * y) == val:\n",
    "                factors = np.append(factors, [x, y])\n",
    "            # End if\n",
    "        # End for\n",
    "    # End for\n",
    "    \n",
    "    return factors\n",
    "# End cython_factors2()"
   ]
  },
  {
   "cell_type": "code",
   "execution_count": 10,
   "metadata": {
    "collapsed": false
   },
   "outputs": [
    {
     "name": "stdout",
     "output_type": "stream",
     "text": [
      "1000 loops, best of 3: 1.73 ms per loop\n"
     ]
    },
    {
     "data": {
      "text/plain": [
       "400"
      ]
     },
     "execution_count": 10,
     "metadata": {},
     "output_type": "execute_result"
    }
   ],
   "source": [
    "%timeit get_gcf(cython_factors2, search_vals)\n",
    "get_gcf(cython_factors2, search_vals)"
   ]
  },
  {
   "cell_type": "markdown",
   "metadata": {},
   "source": [
    "List comprehensions get compiled to the same C code as Cython for loops (timings will be the same or very similar)"
   ]
  },
  {
   "cell_type": "code",
   "execution_count": 11,
   "metadata": {
    "collapsed": true
   },
   "outputs": [],
   "source": [
    "%%cython\n",
    "import numpy as np\n",
    "cimport numpy as np\n",
    "def cython_factors3(int val):\n",
    "    cdef int x, y\n",
    "    cdef list factors = [1, val]\n",
    "\n",
    "    [factors.extend([x, y]) \n",
    "         for x in xrange(2, val) \n",
    "         for y in xrange(x, val) if (x * y) == val]\n",
    "    \n",
    "    return factors\n",
    "# End cython_factors3()"
   ]
  },
  {
   "cell_type": "code",
   "execution_count": 12,
   "metadata": {
    "collapsed": false
   },
   "outputs": [
    {
     "name": "stdout",
     "output_type": "stream",
     "text": [
      "1000 loops, best of 3: 1.53 ms per loop\n"
     ]
    },
    {
     "data": {
      "text/plain": [
       "400"
      ]
     },
     "execution_count": 12,
     "metadata": {},
     "output_type": "execute_result"
    }
   ],
   "source": [
    "%timeit get_gcf(cython_factors3, search_vals)\n",
    "get_gcf(cython_factors3, search_vals)"
   ]
  },
  {
   "cell_type": "markdown",
   "metadata": {
    "collapsed": true
   },
   "source": [
    "How does Cython scale compared to the improved Python version?"
   ]
  },
  {
   "cell_type": "code",
   "execution_count": 13,
   "metadata": {
    "collapsed": false
   },
   "outputs": [
    {
     "data": {
      "text/plain": [
       "[1600, 1200, 800, 8000, 7260, 9800, 6520]"
      ]
     },
     "execution_count": 13,
     "metadata": {},
     "output_type": "execute_result"
    }
   ],
   "source": [
    "expanded = search_vals + [8000, 7260, 9800, 6520]\n",
    "expanded"
   ]
  },
  {
   "cell_type": "code",
   "execution_count": 14,
   "metadata": {
    "collapsed": false
   },
   "outputs": [
    {
     "name": "stdout",
     "output_type": "stream",
     "text": [
      "1 loop, best of 3: 5.12 s per loop\n"
     ]
    },
    {
     "data": {
      "text/plain": [
       "20"
      ]
     },
     "execution_count": 14,
     "metadata": {},
     "output_type": "execute_result"
    }
   ],
   "source": [
    "%timeit get_gcf(improved_py, expanded)\n",
    "get_gcf(improved_py, expanded)"
   ]
  },
  {
   "cell_type": "code",
   "execution_count": 15,
   "metadata": {
    "collapsed": false
   },
   "outputs": [
    {
     "name": "stdout",
     "output_type": "stream",
     "text": [
      "10 loops, best of 3: 82.1 ms per loop\n"
     ]
    },
    {
     "data": {
      "text/plain": [
       "20"
      ]
     },
     "execution_count": 15,
     "metadata": {},
     "output_type": "execute_result"
    }
   ],
   "source": [
    "%timeit get_gcf(cython_factors3, expanded)\n",
    "get_gcf(cython_factors3, expanded)"
   ]
  },
  {
   "cell_type": "markdown",
   "metadata": {},
   "source": [
    "Greatest efficiency gains come from using an appropriate algorithm..."
   ]
  },
  {
   "cell_type": "code",
   "execution_count": 16,
   "metadata": {
    "collapsed": true
   },
   "outputs": [],
   "source": [
    "def modulo_py(val):\n",
    "    factors = [1, val]\n",
    "    for x in xrange(2, val):\n",
    "        if (val % x) == 0:\n",
    "            factors.append(x)\n",
    "        # End if\n",
    "    # End for\n",
    "    \n",
    "    return factors\n",
    "# End modulo_py()"
   ]
  },
  {
   "cell_type": "code",
   "execution_count": 17,
   "metadata": {
    "collapsed": true
   },
   "outputs": [],
   "source": [
    "%%cython \n",
    "def modulo_cy(int val):\n",
    "    cdef list factors = [1, val]\n",
    "    cdef int x\n",
    "    \n",
    "    for x in xrange(2, val):\n",
    "        if (val % x) == 0:\n",
    "            factors.append(x)\n",
    "        # End if\n",
    "    # End for\n",
    "    \n",
    "    return factors\n",
    "# End modulo_cy()"
   ]
  },
  {
   "cell_type": "code",
   "execution_count": 18,
   "metadata": {
    "collapsed": false
   },
   "outputs": [
    {
     "name": "stdout",
     "output_type": "stream",
     "text": [
      "1000 loops, best of 3: 1.5 ms per loop\n"
     ]
    },
    {
     "data": {
      "text/plain": [
       "20"
      ]
     },
     "execution_count": 18,
     "metadata": {},
     "output_type": "execute_result"
    }
   ],
   "source": [
    "%timeit get_gcf(modulo_py, expanded)\n",
    "get_gcf(modulo_py, expanded)"
   ]
  },
  {
   "cell_type": "code",
   "execution_count": 19,
   "metadata": {
    "collapsed": false
   },
   "outputs": [
    {
     "name": "stdout",
     "output_type": "stream",
     "text": [
      "10000 loops, best of 3: 166 µs per loop\n"
     ]
    },
    {
     "data": {
      "text/plain": [
       "20"
      ]
     },
     "execution_count": 19,
     "metadata": {},
     "output_type": "execute_result"
    }
   ],
   "source": [
    "%timeit get_gcf(modulo_cy, expanded)\n",
    "get_gcf(modulo_cy, expanded)"
   ]
  },
  {
   "cell_type": "markdown",
   "metadata": {},
   "source": [
    "We could speed things up by sorting the list first from smallest to largest value and abandoning subsequent searches if a value larger than anything in the list of factors for the smallest value is found"
   ]
  },
  {
   "cell_type": "code",
   "execution_count": 20,
   "metadata": {
    "collapsed": true
   },
   "outputs": [],
   "source": [
    "def improved_modulo_py(val, limit=0):\n",
    "    factors = [1, val]\n",
    "    for x in xrange(2, val):\n",
    "        if limit > 0 and x > limit:\n",
    "            return factors\n",
    "            \n",
    "        if (val % x) == 0:\n",
    "            factors.append(x)\n",
    "        # End if\n",
    "    # End for\n",
    "    \n",
    "    return factors\n",
    "# End improved_modulo_py()"
   ]
  },
  {
   "cell_type": "code",
   "execution_count": 21,
   "metadata": {
    "collapsed": false
   },
   "outputs": [
    {
     "name": "stdout",
     "output_type": "stream",
     "text": [
      "1000 loops, best of 3: 1.95 ms per loop\n"
     ]
    },
    {
     "data": {
      "text/plain": [
       "20"
      ]
     },
     "execution_count": 21,
     "metadata": {},
     "output_type": "execute_result"
    }
   ],
   "source": [
    "%timeit get_gcf(improved_modulo_py, expanded)\n",
    "get_gcf(improved_modulo_py, expanded)"
   ]
  },
  {
   "cell_type": "markdown",
   "metadata": {},
   "source": [
    "Cost of repeatedly checking the `if` statement is ~50-60ms compared to not checking for a limit"
   ]
  },
  {
   "cell_type": "code",
   "execution_count": 22,
   "metadata": {
    "collapsed": false
   },
   "outputs": [],
   "source": [
    "%%cython\n",
    "def improved_modulo_cy(int val, int limit=0):\n",
    "    cdef list factors = [1, val]\n",
    "    cdef int x\n",
    "    \n",
    "    for x in xrange(2, val):\n",
    "        if limit > 0 and x > limit:\n",
    "            return factors\n",
    "            \n",
    "        if (val % x) == 0:\n",
    "            factors.append(x)\n",
    "        # End if\n",
    "    # End for\n",
    "    \n",
    "    return factors\n",
    "# End improved_modulo_cy()"
   ]
  },
  {
   "cell_type": "code",
   "execution_count": 23,
   "metadata": {
    "collapsed": true
   },
   "outputs": [],
   "source": [
    "def mod_get_gcf(func, params):\n",
    "    params = map(abs,params)\n",
    "    params.sort()\n",
    "    sets = []\n",
    "    sets.append(func(params[0]))\n",
    "    limit = max(sets[0])\n",
    "    \n",
    "    sets.extend([func(val, limit) for val in params[1:]])\n",
    "    temp = reduce(lambda x, y: list(set(x).intersection(y)), sets)\n",
    "    \n",
    "    return max(temp)\n",
    "# End mod_get_gcf()"
   ]
  },
  {
   "cell_type": "code",
   "execution_count": 24,
   "metadata": {
    "collapsed": false
   },
   "outputs": [
    {
     "name": "stdout",
     "output_type": "stream",
     "text": [
      "1000 loops, best of 3: 395 µs per loop\n"
     ]
    },
    {
     "data": {
      "text/plain": [
       "20"
      ]
     },
     "execution_count": 24,
     "metadata": {},
     "output_type": "execute_result"
    }
   ],
   "source": [
    "%timeit mod_get_gcf(improved_modulo_py, expanded)\n",
    "mod_get_gcf(improved_modulo_py, expanded)"
   ]
  },
  {
   "cell_type": "code",
   "execution_count": 25,
   "metadata": {
    "collapsed": false
   },
   "outputs": [
    {
     "name": "stdout",
     "output_type": "stream",
     "text": [
      "10000 loops, best of 3: 49.3 µs per loop\n"
     ]
    },
    {
     "data": {
      "text/plain": [
       "20"
      ]
     },
     "execution_count": 25,
     "metadata": {},
     "output_type": "execute_result"
    }
   ],
   "source": [
    "%timeit mod_get_gcf(improved_modulo_cy, expanded)\n",
    "mod_get_gcf(improved_modulo_cy, expanded)"
   ]
  },
  {
   "cell_type": "markdown",
   "metadata": {
    "collapsed": true
   },
   "source": [
    "Recursion example\n",
    "\n",
    "Python lacks tail call optimization so recursion is often slow. \n",
    "\n",
    "For this particular (simple) case, it is much faster."
   ]
  },
  {
   "cell_type": "code",
   "execution_count": 26,
   "metadata": {
    "collapsed": false
   },
   "outputs": [
    {
     "name": "stdout",
     "output_type": "stream",
     "text": [
      "100000 loops, best of 3: 2.66 µs per loop\n"
     ]
    }
   ],
   "source": [
    "def recursive(x1, x2):\n",
    "    if x2 == 0:\n",
    "        return x1\n",
    "    \n",
    "    return recursive(x2, x1 % x2)\n",
    "# End recursive()\n",
    "\n",
    "abs_exp = [abs(i) for i in expanded]\n",
    "%timeit reduce(recursive, abs_exp)"
   ]
  },
  {
   "cell_type": "code",
   "execution_count": 27,
   "metadata": {
    "collapsed": false
   },
   "outputs": [
    {
     "data": {
      "text/plain": [
       "20"
      ]
     },
     "execution_count": 27,
     "metadata": {},
     "output_type": "execute_result"
    }
   ],
   "source": [
    "reduce(recursive, abs_exp)"
   ]
  },
  {
   "cell_type": "code",
   "execution_count": 28,
   "metadata": {
    "collapsed": true
   },
   "outputs": [],
   "source": [
    "%%cython\n",
    "def recursive_cy(int x1, int x2):\n",
    "    if x2 == 0:\n",
    "        return x1\n",
    "    \n",
    "    return recursive_cy(x2, x1 % x2)\n",
    "# End recursive_cy()"
   ]
  },
  {
   "cell_type": "code",
   "execution_count": 31,
   "metadata": {
    "collapsed": false
   },
   "outputs": [
    {
     "name": "stdout",
     "output_type": "stream",
     "text": [
      "1000000 loops, best of 3: 1.32 µs per loop\n"
     ]
    }
   ],
   "source": [
    "abs_exp = [abs(i) for i in expanded]\n",
    "%timeit reduce(recursive_cy, abs_exp)"
   ]
  },
  {
   "cell_type": "code",
   "execution_count": null,
   "metadata": {
    "collapsed": true
   },
   "outputs": [],
   "source": []
  }
 ],
 "metadata": {
  "anaconda-cloud": {},
  "kernelspec": {
   "display_name": "Python [conda root]",
   "language": "python",
   "name": "conda-root-py"
  },
  "language_info": {
   "codemirror_mode": {
    "name": "ipython",
    "version": 2
   },
   "file_extension": ".py",
   "mimetype": "text/x-python",
   "name": "python",
   "nbconvert_exporter": "python",
   "pygments_lexer": "ipython2",
   "version": "2.7.12"
  }
 },
 "nbformat": 4,
 "nbformat_minor": 2
}
