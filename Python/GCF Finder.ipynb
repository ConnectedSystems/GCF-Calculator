{
  "cells": [
    {
      "cell_type": "markdown",
      "source": [
        "Messing around with calculation of Greatest Common Factor between `n` numbers\n",
        "\nSparked by [this answer](https://www.quora.com/My-US-citizen-boyfriend-who-is-a-software-engineer-with-a-MS-in-Computer-Science-is-unable-to-get-a-job-in-his-field-Is-it-because-he-is-being-undermined-by-people-on-H1Bs/answers/38917295?srid=oDGD) to [this question](https://www.quora.com/My-US-citizen-boyfriend-who-is-a-software-engineer-with-a-MS-in-Computer-Science-is-unable-to-get-a-job-in-his-field-Is-it-because-he-is-being-undermined-by-people-on-H1Bs) on Quora"
      ],
      "metadata": {}
    },
    {
      "cell_type": "code",
      "source": [
        "search_vals = [1600, 1200, 800]\n",
        "\n",
        "def get_gcf(func, params):\n",
        "    \n",
        "    sets = map(func, map(abs,params))\n",
        "    temp = reduce(lambda x, y: list(set(x).intersection(y)), sets)\n",
        "    \n",
        "    return max(temp)\n",
        "\n# End get_gcf()"
      ],
      "outputs": [],
      "execution_count": 1,
      "metadata": {
        "collapsed": true
      }
    },
    {
      "cell_type": "markdown",
      "source": [
        "Naive Python attempt"
      ],
      "metadata": {}
    },
    {
      "cell_type": "code",
      "source": [
        "def naive_py(val):\n",
        "    factors = [1, val]\n",
        "    for x in range(2, val):\n",
        "        for y in range(x, val):\n",
        "            if (x * y) == val:\n",
        "                factors.extend([x,y])\n",
        "            # End if\n",
        "        # End for\n",
        "    # End for\n",
        "    \n",
        "    return factors\n",
        "# End naive_py()"
      ],
      "outputs": [],
      "execution_count": 2,
      "metadata": {
        "collapsed": false
      }
    },
    {
      "cell_type": "code",
      "source": [
        "%timeit get_gcf(naive_py, search_vals)\n",
        "get_gcf(naive_py, search_vals)"
      ],
      "outputs": [
        {
          "output_type": "stream",
          "name": "stdout",
          "text": [
            "10 loops, best of 3: 102 ms per loop\n"
          ]
        },
        {
          "output_type": "execute_result",
          "execution_count": 3,
          "data": {
            "text/plain": [
              "400"
            ]
          },
          "metadata": {}
        }
      ],
      "execution_count": 3,
      "metadata": {
        "collapsed": false
      }
    },
    {
      "cell_type": "markdown",
      "source": [
        "Using generators and list comprehensions..."
      ],
      "metadata": {}
    },
    {
      "cell_type": "code",
      "source": [
        "def improved_py(val):\n",
        "    factors = [1, val]\n",
        "    [factors.extend([x, y]) \n",
        "         for x in xrange(2, val) \n",
        "         for y in xrange(x, val) if (x * y) == val]\n",
        "    \n",
        "    return factors\n",
        "# End improved_py()"
      ],
      "outputs": [],
      "execution_count": 4,
      "metadata": {
        "collapsed": false
      }
    },
    {
      "cell_type": "code",
      "source": [
        "%timeit get_gcf(improved_py, search_vals)\n",
        "get_gcf(improved_py, search_vals)"
      ],
      "outputs": [
        {
          "output_type": "stream",
          "name": "stdout",
          "text": [
            "10 loops, best of 3: 93.1 ms per loop\n"
          ]
        },
        {
          "output_type": "execute_result",
          "execution_count": 5,
          "data": {
            "text/plain": [
              "400"
            ]
          },
          "metadata": {}
        }
      ],
      "execution_count": 5,
      "metadata": {
        "collapsed": false
      }
    },
    {
      "cell_type": "markdown",
      "source": [
        "Using Cython"
      ],
      "metadata": {}
    },
    {
      "cell_type": "code",
      "source": [
        "%load_ext Cython"
      ],
      "outputs": [],
      "execution_count": 6,
      "metadata": {
        "collapsed": false
      }
    },
    {
      "cell_type": "code",
      "source": [
        "%%cython\n",
        "def cython_factors(int val):\n",
        "    cdef int x, y\n",
        "    cdef list factors = [1, val]\n",
        "    \n",
        "    for x in range(2, val):\n",
        "        for y in range(x, val):\n",
        "            if (x * y) == val:\n",
        "                factors.extend([x, y])\n",
        "            # End if\n",
        "        # End for\n",
        "    # End for\n",
        "    \n",
        "    return factors\n",
        "# End cython_factors()"
      ],
      "outputs": [],
      "execution_count": 7,
      "metadata": {
        "collapsed": false
      }
    },
    {
      "cell_type": "code",
      "source": [
        "%timeit get_gcf(cython_factors, search_vals)\n",
        "get_gcf(cython_factors, search_vals)"
      ],
      "outputs": [
        {
          "output_type": "stream",
          "name": "stdout",
          "text": [
            "1000 loops, best of 3: 1.53 ms per loop\n"
          ]
        },
        {
          "output_type": "execute_result",
          "execution_count": 8,
          "data": {
            "text/plain": [
              "400"
            ]
          },
          "metadata": {}
        }
      ],
      "execution_count": 8,
      "metadata": {
        "collapsed": false
      }
    },
    {
      "cell_type": "markdown",
      "source": [
        "Using numpy arrays does not help in this case (in fact, it slows it down) because `np.append` recreates the array every loop"
      ],
      "metadata": {}
    },
    {
      "cell_type": "code",
      "source": [
        "%%cython\n",
        "import numpy as np\n",
        "cimport numpy as np\n",
        "def cython_factors2(int val):\n",
        "    cdef int x, y\n",
        "    cdef np.ndarray[int] factors = np.array([1, val])\n",
        "    \n",
        "    for x in range(2, val):\n",
        "        for y in range(x, val):\n",
        "            if (x * y) == val:\n",
        "                factors = np.append(factors, [x, y])\n",
        "            # End if\n",
        "        # End for\n",
        "    # End for\n",
        "    \n",
        "    return factors\n",
        "# End cython_factors2()"
      ],
      "outputs": [],
      "execution_count": 9,
      "metadata": {
        "collapsed": false
      }
    },
    {
      "cell_type": "code",
      "source": [
        "%timeit get_gcf(cython_factors2, search_vals)\n",
        "get_gcf(cython_factors2, search_vals)"
      ],
      "outputs": [
        {
          "output_type": "stream",
          "name": "stdout",
          "text": [
            "1000 loops, best of 3: 1.69 ms per loop\n"
          ]
        },
        {
          "output_type": "execute_result",
          "execution_count": 10,
          "data": {
            "text/plain": [
              "400"
            ]
          },
          "metadata": {}
        }
      ],
      "execution_count": 10,
      "metadata": {
        "collapsed": false
      }
    },
    {
      "cell_type": "markdown",
      "source": [
        "List comprehensions get compiled to the same C code as Cython for loops (timings will be the same or very similar)"
      ],
      "metadata": {}
    },
    {
      "cell_type": "code",
      "source": [
        "%%cython\n",
        "import numpy as np\n",
        "cimport numpy as np\n",
        "def cython_factors3(int val):\n",
        "    cdef int x, y\n",
        "    cdef list factors = [1, val]\n",
        "\n",
        "    [factors.extend([x, y]) \n",
        "         for x in xrange(2, val) \n",
        "         for y in xrange(x, val) if (x * y) == val]\n",
        "    \n",
        "    return factors\n",
        "# End cython_factors3()"
      ],
      "outputs": [],
      "execution_count": 11,
      "metadata": {
        "collapsed": true
      }
    },
    {
      "cell_type": "code",
      "source": [
        "%timeit get_gcf(cython_factors3, search_vals)\n",
        "get_gcf(cython_factors3, search_vals)"
      ],
      "outputs": [
        {
          "output_type": "stream",
          "name": "stdout",
          "text": [
            "1000 loops, best of 3: 1.53 ms per loop\n"
          ]
        },
        {
          "output_type": "execute_result",
          "execution_count": 12,
          "data": {
            "text/plain": [
              "400"
            ]
          },
          "metadata": {}
        }
      ],
      "execution_count": 12,
      "metadata": {
        "collapsed": false
      }
    },
    {
      "cell_type": "markdown",
      "source": [
        "How does Cython scale compared to the improved Python version?"
      ],
      "metadata": {
        "collapsed": true
      }
    },
    {
      "cell_type": "code",
      "source": [
        "expanded = search_vals + [8000, 7260, 9800, 6520]\n",
        "expanded"
      ],
      "outputs": [
        {
          "output_type": "execute_result",
          "execution_count": 13,
          "data": {
            "text/plain": [
              "[1600, 1200, 800, 8000, 7260, 9800, 6520]"
            ]
          },
          "metadata": {}
        }
      ],
      "execution_count": 13,
      "metadata": {
        "collapsed": false
      }
    },
    {
      "cell_type": "code",
      "source": [
        "%timeit get_gcf(improved_py, expanded)\n",
        "get_gcf(improved_py, expanded)"
      ],
      "outputs": [
        {
          "output_type": "stream",
          "name": "stdout",
          "text": [
            "1 loop, best of 3: 5.23 s per loop\n"
          ]
        },
        {
          "output_type": "execute_result",
          "execution_count": 14,
          "data": {
            "text/plain": [
              "20"
            ]
          },
          "metadata": {}
        }
      ],
      "execution_count": 14,
      "metadata": {
        "collapsed": false
      }
    },
    {
      "cell_type": "code",
      "source": [
        "%timeit get_gcf(cython_factors3, expanded)\n",
        "get_gcf(cython_factors3, expanded)"
      ],
      "outputs": [
        {
          "output_type": "stream",
          "name": "stdout",
          "text": [
            "10 loops, best of 3: 83.4 ms per loop\n"
          ]
        },
        {
          "output_type": "execute_result",
          "execution_count": 15,
          "data": {
            "text/plain": [
              "20"
            ]
          },
          "metadata": {}
        }
      ],
      "execution_count": 15,
      "metadata": {
        "collapsed": false
      }
    },
    {
      "cell_type": "markdown",
      "source": [
        "Greatest efficiency gains come from using an appropriate algorithm..."
      ],
      "metadata": {}
    },
    {
      "cell_type": "code",
      "source": [
        "def modulo_py(val):\n",
        "    factors = [1, val]\n",
        "    for x in xrange(2, val):\n",
        "        if (val % x) == 0:\n",
        "            factors.append(x)\n",
        "        # End if\n",
        "    # End for\n",
        "    \n",
        "    return factors\n",
        "# End modulo_py()"
      ],
      "outputs": [],
      "execution_count": 16,
      "metadata": {
        "collapsed": true
      }
    },
    {
      "cell_type": "code",
      "source": [
        "%%cython \n",
        "def modulo_cy(int val):\n",
        "    cdef list factors = [1, val]\n",
        "    cdef int x\n",
        "    \n",
        "    for x in xrange(2, val):\n",
        "        if (val % x) == 0:\n",
        "            factors.append(x)\n",
        "        # End if\n",
        "    # End for\n",
        "    \n",
        "    return factors\n",
        "# End modulo_cy()"
      ],
      "outputs": [],
      "execution_count": 17,
      "metadata": {
        "collapsed": true
      }
    },
    {
      "cell_type": "code",
      "source": [
        "%timeit get_gcf(modulo_py, expanded)\n",
        "get_gcf(modulo_py, expanded)"
      ],
      "outputs": [
        {
          "output_type": "stream",
          "name": "stdout",
          "text": [
            "1000 loops, best of 3: 1.52 ms per loop\n"
          ]
        },
        {
          "output_type": "execute_result",
          "execution_count": 18,
          "data": {
            "text/plain": [
              "20"
            ]
          },
          "metadata": {}
        }
      ],
      "execution_count": 18,
      "metadata": {
        "collapsed": false
      }
    },
    {
      "cell_type": "code",
      "source": [
        "%timeit get_gcf(modulo_cy, expanded)\n",
        "get_gcf(modulo_cy, expanded)"
      ],
      "outputs": [
        {
          "output_type": "stream",
          "name": "stdout",
          "text": [
            "10000 loops, best of 3: 167 µs per loop\n"
          ]
        },
        {
          "output_type": "execute_result",
          "execution_count": 19,
          "data": {
            "text/plain": [
              "20"
            ]
          },
          "metadata": {}
        }
      ],
      "execution_count": 19,
      "metadata": {
        "collapsed": false
      }
    },
    {
      "cell_type": "markdown",
      "source": [
        "We could speed things up by sorting the list first from smallest to largest value and abandoning subsequent searches if a value larger than anything in the list of factors for the smallest value is found"
      ],
      "metadata": {}
    },
    {
      "cell_type": "code",
      "source": [
        "def improved_modulo_py(val, limit=0):\n",
        "    factors = [1, val]\n",
        "    for x in xrange(2, val):\n",
        "        if limit > 0 and x > limit:\n",
        "            return factors\n",
        "            \n",
        "        if (val % x) == 0:\n",
        "            factors.append(x)\n",
        "        # End if\n",
        "    # End for\n",
        "    \n",
        "    return factors\n",
        "# End improved_modulo_py()"
      ],
      "outputs": [],
      "execution_count": 20,
      "metadata": {
        "collapsed": true
      }
    },
    {
      "cell_type": "code",
      "source": [
        "%timeit get_gcf(improved_modulo_py, expanded)\n",
        "get_gcf(improved_modulo_py, expanded)"
      ],
      "outputs": [
        {
          "output_type": "stream",
          "name": "stdout",
          "text": [
            "100 loops, best of 3: 1.99 ms per loop\n"
          ]
        },
        {
          "output_type": "execute_result",
          "execution_count": 21,
          "data": {
            "text/plain": [
              "20"
            ]
          },
          "metadata": {}
        }
      ],
      "execution_count": 21,
      "metadata": {
        "collapsed": false
      }
    },
    {
      "cell_type": "markdown",
      "source": [
        "Cost of repeatedly checking the `if` statement is ~50-60ms compared to not checking for a limit"
      ],
      "metadata": {}
    },
    {
      "cell_type": "code",
      "source": [
        "%%cython\n",
        "def improved_modulo_cy(int val, int limit=0):\n",
        "    cdef list factors = [1, val]\n",
        "    cdef int x\n",
        "    \n",
        "    for x in xrange(2, val):\n",
        "        if limit > 0 and x > limit:\n",
        "            return factors\n",
        "            \n",
        "        if (val % x) == 0:\n",
        "            factors.append(x)\n",
        "        # End if\n",
        "    # End for\n",
        "    \n",
        "    return factors\n",
        "# End improved_modulo_cy()"
      ],
      "outputs": [],
      "execution_count": 22,
      "metadata": {
        "collapsed": false
      }
    },
    {
      "cell_type": "code",
      "source": [
        "def mod_get_gcf(func, params):\n",
        "    params = map(abs, params)\n",
        "    params.sort()\n",
        "    sets = [func(params[0])]\n",
        "    limit = max(sets[0])\n",
        "\n",
        "    sets.extend([func(params[1], limit))\n",
        "    temp = reduce()\n",
        "    temp = reduce(lambda x, y: list(set(x).intersection(y)), sets)\n",
        "\n",
        "    return max(temp)\n",
        "# End mod_get_gcf()"
      ],
      "outputs": [],
      "execution_count": 23,
      "metadata": {
        "collapsed": true
      }
    },
    {
      "cell_type": "code",
      "source": [
        "%timeit mod_get_gcf(improved_modulo_py, expanded)\n",
        "mod_get_gcf(improved_modulo_py, expanded)"
      ],
      "outputs": [
        {
          "output_type": "stream",
          "name": "stdout",
          "text": [
            "1000 loops, best of 3: 397 µs per loop\n"
          ]
        },
        {
          "output_type": "execute_result",
          "execution_count": 24,
          "data": {
            "text/plain": [
              "20"
            ]
          },
          "metadata": {}
        }
      ],
      "execution_count": 24,
      "metadata": {
        "collapsed": false
      }
    },
    {
      "cell_type": "code",
      "source": [
        "%timeit mod_get_gcf(improved_modulo_cy, expanded)\n",
        "mod_get_gcf(improved_modulo_cy, expanded)"
      ],
      "outputs": [
        {
          "output_type": "stream",
          "name": "stdout",
          "text": [
            "10000 loops, best of 3: 48.5 µs per loop\n"
          ]
        },
        {
          "output_type": "execute_result",
          "execution_count": 25,
          "data": {
            "text/plain": [
              "20"
            ]
          },
          "metadata": {}
        }
      ],
      "execution_count": 25,
      "metadata": {
        "collapsed": false
      }
    },
    {
      "cell_type": "markdown",
      "source": [
        "Recursion example\n",
        "\n",
        "Python lacks tail call optimization so recursion is often slow. \n",
        "\nFor this particular (simple) case, it is much faster."
      ],
      "metadata": {
        "collapsed": true
      }
    },
    {
      "cell_type": "code",
      "source": [
        "def recursive(x1, x2):\n",
        "    if x2 == 0:\n",
        "        return x1\n",
        "    \n",
        "    return recursive(x2, x1 % x2)\n",
        "# End recursive()\n",
        "\n",
        "abs_exp = [abs(i) for i in expanded]\n",
        "%timeit reduce(recursive, abs_exp)"
      ],
      "outputs": [
        {
          "output_type": "stream",
          "name": "stdout",
          "text": [
            "100000 loops, best of 3: 2.64 µs per loop\n"
          ]
        }
      ],
      "execution_count": 26,
      "metadata": {
        "collapsed": false
      }
    },
    {
      "cell_type": "code",
      "source": [
        "reduce(recursive, abs_exp)"
      ],
      "outputs": [
        {
          "output_type": "execute_result",
          "execution_count": 27,
          "data": {
            "text/plain": [
              "20"
            ]
          },
          "metadata": {}
        }
      ],
      "execution_count": 27,
      "metadata": {
        "collapsed": false
      }
    },
    {
      "cell_type": "code",
      "source": [
        "%%cython\n",
        "def recursive_cy(int x1, int x2):\n",
        "    if x2 == 0:\n",
        "        return x1\n",
        "    \n",
        "    return recursive_cy(x2, x1 % x2)\n",
        "# End recursive_cy()"
      ],
      "outputs": [],
      "execution_count": 28,
      "metadata": {
        "collapsed": true
      }
    },
    {
      "cell_type": "code",
      "source": [
        "abs_exp = [abs(i) for i in expanded]\n",
        "%timeit reduce(recursive_cy, abs_exp)"
      ],
      "outputs": [
        {
          "output_type": "stream",
          "name": "stdout",
          "text": [
            "The slowest run took 5.85 times longer than the fastest. This could mean that an intermediate result is being cached.\n",
            "1000000 loops, best of 3: 1.32 µs per loop\n"
          ]
        }
      ],
      "execution_count": 29,
      "metadata": {
        "collapsed": false
      }
    },
    {
      "cell_type": "code",
      "source": [],
      "outputs": [],
      "execution_count": 33,
      "metadata": {
        "collapsed": false,
        "inputHidden": false,
        "outputHidden": false
      }
    }
  ],
  "metadata": {
    "anaconda-cloud": {},
    "kernel_info": {
      "name": "python2"
    },
    "kernelspec": {
      "name": "python2",
      "language": "python",
      "display_name": "Python 2"
    },
    "language_info": {
      "mimetype": "text/x-python",
      "nbconvert_exporter": "python",
      "name": "python",
      "pygments_lexer": "ipython2",
      "version": "2.7.12",
      "file_extension": ".py",
      "codemirror_mode": {
        "version": 2,
        "name": "ipython"
      }
    }
  },
  "nbformat": 4,
  "nbformat_minor": 2
}