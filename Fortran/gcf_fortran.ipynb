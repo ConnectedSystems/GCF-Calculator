{
 "cells": [
  {
   "cell_type": "code",
   "execution_count": 15,
   "metadata": {
    "collapsed": true
   },
   "outputs": [],
   "source": [
    "import subprocess"
   ]
  },
  {
   "cell_type": "code",
   "execution_count": 16,
   "metadata": {
    "collapsed": true
   },
   "outputs": [],
   "source": [
    "# Numbers to process \n",
    "search_vals = [1600, 1200, 800, 8000, 7260, 9800, 6520]\n",
    "        "
   ]
  },
  {
   "cell_type": "code",
   "execution_count": 17,
   "metadata": {
    "collapsed": false
   },
   "outputs": [],
   "source": [
    "with open('input.in', 'w') as f:\n",
    "    f.write('{} \\n'.format(len(search_vals)))\n",
    "    f.write(\" \".join([str(x) for x in search_vals]))"
   ]
  },
  {
   "cell_type": "code",
   "execution_count": 19,
   "metadata": {
    "collapsed": false
   },
   "outputs": [
    {
     "name": "stdout",
     "output_type": "stream",
     "text": [
      " How many numbers do you want to process?\r\n",
      " Enter these numbers, but beware they must be positive integers or I will crash\r\n",
      " The answer you seek is:           20\r\n",
      "\n"
     ]
    }
   ],
   "source": [
    "try:\n",
    "    print(subprocess.check_output([\"gcf\", \"<\", \"input.in\"], shell=True))\n",
    "except subprocess.CalledProcessError as e:\n",
    "    print(e)\n"
   ]
  },
  {
   "cell_type": "code",
   "execution_count": null,
   "metadata": {
    "collapsed": true
   },
   "outputs": [],
   "source": []
  }
 ],
 "metadata": {
  "kernelspec": {
   "display_name": "Python 2",
   "language": "python",
   "name": "python2"
  },
  "language_info": {
   "codemirror_mode": {
    "name": "ipython",
    "version": 2
   },
   "file_extension": ".py",
   "mimetype": "text/x-python",
   "name": "python",
   "nbconvert_exporter": "python",
   "pygments_lexer": "ipython2",
   "version": "2.7.13"
  }
 },
 "nbformat": 4,
 "nbformat_minor": 2
}
